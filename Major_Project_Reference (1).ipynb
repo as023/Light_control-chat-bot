{
  "nbformat": 4,
  "nbformat_minor": 0,
  "metadata": {
    "colab": {
      "name": "Major Project -Reference.ipynb",
      "provenance": [],
      "collapsed_sections": []
    },
    "kernelspec": {
      "name": "python3",
      "display_name": "Python 3"
    },
    "language_info": {
      "name": "python"
    }
  },
  "cells": [
    {
      "cell_type": "code",
      "metadata": {
        "id": "Jx125E2jo8d3"
      },
      "source": [
        "#https://adafruit-io-python-client.readthedocs.io/en/latest/\n",
        "\n",
        "!pip install adafruit-io --quiet\n"
      ],
      "execution_count": 4,
      "outputs": []
    },
    {
      "cell_type": "code",
      "metadata": {
        "id": "zvpzuXPGySkB",
        "colab": {
          "base_uri": "https://localhost:8080/"
        },
        "outputId": "336e8e61-106d-44b8-89b9-1dce851b6030"
      },
      "source": [
        "# Import library and create instance of REST client.\n",
        "from Adafruit_IO import Client\n",
        "aio = Client('Anusmita_', 'aio_NEHv60OAqxq4E703QMyatUpKJwSF')\n",
        "\n",
        "# Send the value 100 to a feed called 'Foo'.\n",
        "aio.send('light-control', 1)\n",
        "\n",
        "# Retrieve the most recent value from the feed 'Foo'.\n",
        "# Access the value by reading the `value` property on the returned Data object.\n",
        "# Note that all values retrieved from IO are strings so you might need to convert\n",
        "# them to an int or numeric type if you expect a number.\n",
        "data = aio.receive('light-control')\n",
        "print(f'Received value: {data.value}')"
      ],
      "execution_count": 9,
      "outputs": [
        {
          "output_type": "stream",
          "text": [
            "Received value: 1\n"
          ],
          "name": "stdout"
        }
      ]
    },
    {
      "cell_type": "code",
      "metadata": {
        "id": "Rq366XA16pnC",
        "colab": {
          "base_uri": "https://localhost:8080/"
        },
        "outputId": "be2e279c-9279-4e99-c382-fba962eb453e"
      },
      "source": [
        "# Telegram\n",
        "#https://python-telegram-bot.readthedocs.io/en/stable/\n",
        "!pip install python-telegram-bot==13.0 --quiet\n"
      ],
      "execution_count": 11,
      "outputs": [
        {
          "output_type": "stream",
          "text": [
            "\u001b[K     |████████████████████████████████| 404 kB 13.3 MB/s \n",
            "\u001b[K     |████████████████████████████████| 3.2 MB 21.4 MB/s \n",
            "\u001b[K     |████████████████████████████████| 58 kB 5.6 MB/s \n",
            "\u001b[?25h"
          ],
          "name": "stdout"
        }
      ]
    },
    {
      "cell_type": "code",
      "metadata": {
        "id": "5udDPyui-Jpm",
        "colab": {
          "base_uri": "https://localhost:8080/"
        },
        "outputId": "4c21bc40-7afc-4e97-ecab-2f2d33cfe5c0"
      },
      "source": [
        "from telegram.ext import Updater,CommandHandler,MessageHandler,Filters\n",
        "from Adafruit_IO import Client,Feed,Data\n",
        "import os\n",
        "\n",
        "ADAFRUIT_IO_USERNAME = os.getenv('Anusmita_')\n",
        "ADAFRUIT_IO_KEY = os.getenv('aio_NEHv60OAqxq4E703QMyatUpKJwSF')\n",
        "aio = Client('Anusmita_','aio_NEHv60OAqxq4E703QMyatUpKJwSF')\n",
        "TELEGRAM_TOKEN = os.getenv('1903889884:AAFvflO7HHS5s0_QiXTLFgX-Vu6_dfBtBr8')\n",
        "\n",
        "def start(bot, update):\n",
        "    print(str( update.effective_chat.id ))\n",
        "    bot.send_message(chat_id = update.effective_chat.id, text=\"Welcome! Type 'Turn on the Light' or /lighton to switch on the light bulb. Type 'Turn off the Light' or /lightoff to switch off the light bulb.\")\n",
        "\n",
        "def unknown(bot, update):\n",
        "    bot.send_message(chat_id=update.effective_chat.id, text=\"Oops, I didn't understand that. Try again!\")\n",
        "\n",
        "\n",
        "def value_send(value):\n",
        "  to_feed = aio.feeds('lightbotctrl')\n",
        "  aio.send_data(to_feed.key,value)\n",
        "\n",
        "def lighton(bot, update):\n",
        "  chat_id = update.message.chat_id\n",
        "  bot.send_message(chat_id, text=\"Light has been turned ON\")\n",
        "  bot.send_photo(chat_id, photo='https://www.securityroundtable.org/wp-content/uploads/2019/03/AdobeStock_261504199-scaled.jpeg')\n",
        "  value_send(1)\n",
        "\n",
        "def lightoff(bot, update):\n",
        "  chat_id = update.message.chat_id\n",
        "  bot.send_message(chat_id, text=\"Light has been turned OFF\")\n",
        "  bot.send_photo(chat_id=update.effective_chat.id,photo='https://ak.picdn.net/shutterstock/videos/1027638404/thumb/1.jpg?ip=x480')\n",
        "  value_send(0)\n",
        "\n",
        "def given_message(bot, update):\n",
        "  text = update.message.text.upper()\n",
        "  text = update.message.text\n",
        "  if text == 'Turn on the Light':\n",
        "    lighton(bot,update)\n",
        "  \n",
        "  elif text == 'Turn off the Light':\n",
        "    lightoff(bot,update)\n",
        "\n",
        "u = Updater('1903889884:AAFvflO7HHS5s0_QiXTLFgX-Vu6_dfBtBr8',use_context = True)\n",
        "dp = u.dispatcher\n",
        "dp.add_handler(CommandHandler('lighton',lighton))\n",
        "dp.add_handler(CommandHandler('lightoff',lightoff))\n",
        "dp.add_handler(CommandHandler('start', start))\n",
        "dp.add_handler(MessageHandler(Filters.command, unknown))\n",
        "dp.add_handler(MessageHandler(Filters.text, given_message))\n",
        "\n",
        "u.start_polling()\n",
        "u.idle()"
      ],
      "execution_count": null,
      "outputs": [
        {
          "output_type": "stream",
          "text": [
            "No error handlers are registered, logging exception.\n",
            "Traceback (most recent call last):\n",
            "  File \"/usr/local/lib/python3.7/dist-packages/telegram/ext/dispatcher.py\", line 425, in process_update\n",
            "    handler.handle_update(update, self, check, context)\n",
            "  File \"/usr/local/lib/python3.7/dist-packages/telegram/ext/handler.py\", line 145, in handle_update\n",
            "    return self.callback(update, context)\n",
            "  File \"<ipython-input-12-54a49df20526>\", line 35, in given_message\n",
            "    text = update.message.text.upper()\n",
            "AttributeError: 'CallbackContext' object has no attribute 'message'\n",
            "No error handlers are registered, logging exception.\n",
            "Traceback (most recent call last):\n",
            "  File \"/usr/local/lib/python3.7/dist-packages/telegram/ext/dispatcher.py\", line 425, in process_update\n",
            "    handler.handle_update(update, self, check, context)\n",
            "  File \"/usr/local/lib/python3.7/dist-packages/telegram/ext/handler.py\", line 145, in handle_update\n",
            "    return self.callback(update, context)\n",
            "  File \"<ipython-input-12-54a49df20526>\", line 11, in start\n",
            "    print(str( update.effective_chat.id ))\n",
            "AttributeError: 'CallbackContext' object has no attribute 'effective_chat'\n"
          ],
          "name": "stderr"
        }
      ]
    }
  ]
}